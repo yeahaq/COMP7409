{
 "cells": [
  {
   "cell_type": "code",
   "execution_count": 1,
   "metadata": {},
   "outputs": [],
   "source": [
    "# Load data\n",
    "import pandas as pd\n",
    "from sklearn.preprocessing import StandardScaler\n",
    "from sklearn.metrics import classification_report, confusion_matrix, accuracy_score\n",
    "\n",
    "train_df, test_df = pd.read_csv('./train_data_balanced.csv'), pd.read_csv('./test_data.csv')\n",
    "X_train, X_test = train_df.drop('target', axis=1), test_df.drop('target', axis=1)\n",
    "y_train, y_test = train_df['target'], test_df['target']\n",
    "\n",
    "scaler = StandardScaler()\n",
    "X_train_scaled = scaler.fit_transform(X_train)\n",
    "X_test_scaled = scaler.transform(X_test)\n",
    "\n",
    "def summary(y_pred, model = None):\n",
    "    print(\"Model Accuracy:\", accuracy_score(y_test, y_pred))\n",
    "    print(\"\\nConfusion Matrix:\")\n",
    "    print(confusion_matrix(y_test, y_pred))\n",
    "    print(\"\\nClassification Report:\")\n",
    "    print(classification_report(y_test, y_pred))\n",
    "\n",
    "    if model is not None:\n",
    "        feature_importance = pd.DataFrame({\n",
    "            'Feature': X_train.columns,\n",
    "            'Importance': model.feature_importances_\n",
    "        }).sort_values('Importance', ascending=False)\n",
    "        print(\"\\nFeature Importance:\")\n",
    "        print(feature_importance)"
   ]
  },
  {
   "cell_type": "code",
   "execution_count": 2,
   "metadata": {},
   "outputs": [
    {
     "name": "stdout",
     "output_type": "stream",
     "text": [
      "Model Accuracy: 0.9239204934886909\n",
      "\n",
      "Confusion Matrix:\n",
      "[[1121   47]\n",
      " [  64  227]]\n",
      "\n",
      "Classification Report:\n",
      "              precision    recall  f1-score   support\n",
      "\n",
      "           0       0.95      0.96      0.95      1168\n",
      "           1       0.83      0.78      0.80       291\n",
      "\n",
      "    accuracy                           0.92      1459\n",
      "   macro avg       0.89      0.87      0.88      1459\n",
      "weighted avg       0.92      0.92      0.92      1459\n",
      "\n",
      "\n",
      "Feature Importance:\n",
      "    Feature  Importance\n",
      "7    DELINQ    0.197799\n",
      "11  DEBTINC    0.151179\n",
      "6     DEROG    0.094162\n",
      "9      NINQ    0.090819\n",
      "8     CLAGE    0.086759\n",
      "2     VALUE    0.067014\n",
      "0      LOAN    0.061304\n",
      "1   MORTDUE    0.058081\n",
      "10     CLNO    0.058002\n",
      "5       YOJ    0.055491\n",
      "4       JOB    0.040867\n",
      "3    REASON    0.038523\n"
     ]
    }
   ],
   "source": [
    "# Random Forest\n",
    "from sklearn.ensemble import RandomForestClassifier\n",
    "\n",
    "forest = RandomForestClassifier(n_estimators=100, random_state=42)\n",
    "forest.fit(X_train_scaled, y_train)\n",
    "y_pred = forest.predict(X_test_scaled)\n",
    "summary(y_pred, forest)"
   ]
  },
  {
   "cell_type": "code",
   "execution_count": 3,
   "metadata": {},
   "outputs": [
    {
     "name": "stdout",
     "output_type": "stream",
     "text": [
      "Model Accuracy: 0.8217957505140507\n",
      "\n",
      "Confusion Matrix:\n",
      "[[1008  160]\n",
      " [ 100  191]]\n",
      "\n",
      "Classification Report:\n",
      "              precision    recall  f1-score   support\n",
      "\n",
      "           0       0.91      0.86      0.89      1168\n",
      "           1       0.54      0.66      0.60       291\n",
      "\n",
      "    accuracy                           0.82      1459\n",
      "   macro avg       0.73      0.76      0.74      1459\n",
      "weighted avg       0.84      0.82      0.83      1459\n",
      "\n",
      "\n",
      "Feature Importance:\n",
      "    Feature  Importance\n",
      "7    DELINQ    0.508229\n",
      "11  DEBTINC    0.173498\n",
      "6     DEROG    0.144267\n",
      "8     CLAGE    0.093356\n",
      "9      NINQ    0.042525\n",
      "2     VALUE    0.032598\n",
      "10     CLNO    0.004295\n",
      "5       YOJ    0.001231\n",
      "0      LOAN    0.000000\n",
      "1   MORTDUE    0.000000\n",
      "3    REASON    0.000000\n",
      "4       JOB    0.000000\n"
     ]
    }
   ],
   "source": [
    "# Decision Tree\n",
    "from sklearn.tree import DecisionTreeClassifier\n",
    "\n",
    "tree = DecisionTreeClassifier(max_depth=5, random_state=42)\n",
    "tree.fit(X_train_scaled, y_train)\n",
    "y_pred = tree.predict(X_test_scaled)\n",
    "summary(y_pred, tree)"
   ]
  },
  {
   "cell_type": "code",
   "execution_count": 4,
   "metadata": {},
   "outputs": [
    {
     "name": "stdout",
     "output_type": "stream",
     "text": [
      "Model Accuracy: 0.9424263193968472\n",
      "\n",
      "Confusion Matrix:\n",
      "[[1155   13]\n",
      " [  71  220]]\n",
      "\n",
      "Classification Report:\n",
      "              precision    recall  f1-score   support\n",
      "\n",
      "           0       0.94      0.99      0.96      1168\n",
      "           1       0.94      0.76      0.84       291\n",
      "\n",
      "    accuracy                           0.94      1459\n",
      "   macro avg       0.94      0.87      0.90      1459\n",
      "weighted avg       0.94      0.94      0.94      1459\n",
      "\n"
     ]
    }
   ],
   "source": [
    "# KNN\n",
    "from sklearn.neighbors import KNeighborsClassifier\n",
    "\n",
    "knn = KNeighborsClassifier(n_neighbors=5)\n",
    "knn.fit(X_train_scaled, y_train)\n",
    "y_pred = knn.predict(X_test_scaled)\n",
    "summary(y_pred)"
   ]
  },
  {
   "cell_type": "code",
   "execution_count": 5,
   "metadata": {},
   "outputs": [
    {
     "name": "stdout",
     "output_type": "stream",
     "text": [
      "Model Accuracy: 0.8615490061686086\n",
      "\n",
      "Confusion Matrix:\n",
      "[[1049  119]\n",
      " [  83  208]]\n",
      "\n",
      "Classification Report:\n",
      "              precision    recall  f1-score   support\n",
      "\n",
      "           0       0.93      0.90      0.91      1168\n",
      "           1       0.64      0.71      0.67       291\n",
      "\n",
      "    accuracy                           0.86      1459\n",
      "   macro avg       0.78      0.81      0.79      1459\n",
      "weighted avg       0.87      0.86      0.86      1459\n",
      "\n"
     ]
    }
   ],
   "source": [
    "# SVM\n",
    "from sklearn.svm import SVC\n",
    "\n",
    "svm = SVC(kernel='rbf', C=1.0, gamma='scale', random_state=42)\n",
    "svm.fit(X_train_scaled, y_train)\n",
    "y_pred = svm.predict(X_test_scaled)\n",
    "summary(y_pred)"
   ]
  }
 ],
 "metadata": {
  "kernelspec": {
   "display_name": ".venv",
   "language": "python",
   "name": "python3"
  },
  "language_info": {
   "codemirror_mode": {
    "name": "ipython",
    "version": 3
   },
   "file_extension": ".py",
   "mimetype": "text/x-python",
   "name": "python",
   "nbconvert_exporter": "python",
   "pygments_lexer": "ipython3",
   "version": "3.13.2"
  }
 },
 "nbformat": 4,
 "nbformat_minor": 2
}
